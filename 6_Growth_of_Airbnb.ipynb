{
  "nbformat": 4,
  "nbformat_minor": 0,
  "metadata": {
    "colab": {
      "provenance": [],
      "authorship_tag": "ABX9TyOkvB315f9vDLqJ+DalG3Z/",
      "include_colab_link": true
    },
    "kernelspec": {
      "name": "python3",
      "display_name": "Python 3"
    },
    "language_info": {
      "name": "python"
    }
  },
  "cells": [
    {
      "cell_type": "markdown",
      "metadata": {
        "id": "view-in-github",
        "colab_type": "text"
      },
      "source": [
        "<a href=\"https://colab.research.google.com/github/root-git/stratascratch-sql-challenges/blob/main/6_Growth_of_Airbnb.ipynb\" target=\"_parent\"><img src=\"https://colab.research.google.com/assets/colab-badge.svg\" alt=\"Open In Colab\"/></a>"
      ]
    },
    {
      "cell_type": "markdown",
      "source": [
        "## Growth of Airbnb\n",
        "\n",
        "Calculate Airbnb's annual growth rate using the number of registered hosts as the key metric. The growth rate is determined by:\n",
        "\n",
        "Growth Rate = ((Number of hosts registered in the current year - number of hosts registered in the previous year) / number of hosts registered in the previous year) * 100\n",
        "\n",
        "Output the year, number of hosts in the current year, number of hosts in the previous year, and the growth rate. Round the growth rate to the nearest percent. Sort the results in ascending order by year.\n",
        "\n",
        "Assume that the dataset consists only of unique hosts, meaning there are no duplicate hosts listed.\n",
        "\n",
        "**Original Question Link:**  \n",
        "[StrataScratch ID 9637 – Growth of Airbnb](https://platform.stratascratch.com/coding/9637-growth-of-airbnb?code_type=1)\n"
      ],
      "metadata": {
        "id": "Nn13LqH6lJhZ"
      }
    },
    {
      "cell_type": "markdown",
      "source": [
        "## Table Schema\n",
        "\n",
        "`airbnb_search_details`\n",
        "\n",
        "| Column                   | Type              |\n",
        "|--------------------------|-------------------|\n",
        "| accommodates             | bigint            |\n",
        "| amenities                | text              |\n",
        "| bathrooms                | bigint            |\n",
        "| bed_type                 | text              |\n",
        "| bedrooms                 | bigint            |\n",
        "| beds                     | bigint            |\n",
        "| cancellation_policy      | text              |\n",
        "| city                     | text              |\n",
        "| cleaning_fee             | boolean           |\n",
        "| host_identity_verified   | text              |\n",
        "| host_response_rate       | text              |\n",
        "| **host_since**           | date              |\n",
        "| **id**                   | bigint            |\n",
        "| neighbourhood            | text              |\n",
        "| number_of_reviews        | bigint            |\n",
        "| price                    | double precision  |\n",
        "| property_type            | text              |\n",
        "| review_scores_rating     | double precision  |\n",
        "| room_type                | text              |\n",
        "| zipcode                  | bigint            |\n",
        "\n",
        "---\n"
      ],
      "metadata": {
        "id": "T-zeVEYOluIy"
      }
    },
    {
      "cell_type": "markdown",
      "source": [
        "## Thought Process\n",
        "\n",
        "1. Extract the year from `host_since`.\n",
        "2. Count number of unique hosts per year.\n",
        "3. Use `LAG` window function to get previous year's host count.\n",
        "4. Apply growth rate formula."
      ],
      "metadata": {
        "id": "YxvEFp4_mIex"
      }
    },
    {
      "cell_type": "code",
      "source": [
        "import pandas as pd\n",
        "import random\n",
        "\n",
        "# Create mock Airbnb data\n",
        "data = {\n",
        "    'id': list(range(1, 51)),\n",
        "    'host_since': pd.to_datetime([\n",
        "        f'{random.choice([2017, 2018, 2019, 2020, 2021, 2022])}-{random.randint(1,12):02d}-{random.randint(1,28):02d}'\n",
        "        for _ in range(50)\n",
        "    ])\n",
        "}\n",
        "\n",
        "df = pd.DataFrame(data)"
      ],
      "metadata": {
        "id": "svRvcdlPmtp6"
      },
      "execution_count": 2,
      "outputs": []
    },
    {
      "cell_type": "code",
      "source": [
        "import sqlite3\n",
        "\n",
        "# Load into SQLite (in-memory)\n",
        "conn = sqlite3.connect(':memory:')\n",
        "df.to_sql('airbnb_search_details', conn, index=False, if_exists='replace')\n",
        "\n",
        "#Show Preview\n",
        "print(pd.read_sql('SELECT * FROM airbnb_search_details', conn))"
      ],
      "metadata": {
        "colab": {
          "base_uri": "https://localhost:8080/"
        },
        "id": "Nmu0Hiirm320",
        "outputId": "576ca63d-8b72-4b49-84df-d1ba11b1498c"
      },
      "execution_count": 3,
      "outputs": [
        {
          "output_type": "stream",
          "name": "stdout",
          "text": [
            "    id           host_since\n",
            "0    1  2021-11-06 00:00:00\n",
            "1    2  2022-11-21 00:00:00\n",
            "2    3  2018-04-28 00:00:00\n",
            "3    4  2022-08-04 00:00:00\n",
            "4    5  2018-06-27 00:00:00\n",
            "5    6  2018-03-02 00:00:00\n",
            "6    7  2022-10-15 00:00:00\n",
            "7    8  2018-04-01 00:00:00\n",
            "8    9  2022-12-10 00:00:00\n",
            "9   10  2019-02-21 00:00:00\n",
            "10  11  2017-10-09 00:00:00\n",
            "11  12  2019-08-25 00:00:00\n",
            "12  13  2022-11-08 00:00:00\n",
            "13  14  2020-06-22 00:00:00\n",
            "14  15  2019-07-11 00:00:00\n",
            "15  16  2020-05-15 00:00:00\n",
            "16  17  2020-08-07 00:00:00\n",
            "17  18  2020-10-22 00:00:00\n",
            "18  19  2021-04-16 00:00:00\n",
            "19  20  2021-01-21 00:00:00\n",
            "20  21  2019-11-28 00:00:00\n",
            "21  22  2019-01-24 00:00:00\n",
            "22  23  2022-05-13 00:00:00\n",
            "23  24  2020-08-17 00:00:00\n",
            "24  25  2022-04-03 00:00:00\n",
            "25  26  2017-01-12 00:00:00\n",
            "26  27  2017-12-24 00:00:00\n",
            "27  28  2017-06-17 00:00:00\n",
            "28  29  2022-12-22 00:00:00\n",
            "29  30  2021-01-04 00:00:00\n",
            "30  31  2018-09-12 00:00:00\n",
            "31  32  2018-10-09 00:00:00\n",
            "32  33  2017-01-02 00:00:00\n",
            "33  34  2017-10-05 00:00:00\n",
            "34  35  2022-03-16 00:00:00\n",
            "35  36  2017-01-03 00:00:00\n",
            "36  37  2022-08-06 00:00:00\n",
            "37  38  2021-01-01 00:00:00\n",
            "38  39  2018-04-13 00:00:00\n",
            "39  40  2022-03-04 00:00:00\n",
            "40  41  2020-01-03 00:00:00\n",
            "41  42  2021-01-20 00:00:00\n",
            "42  43  2020-04-02 00:00:00\n",
            "43  44  2022-08-23 00:00:00\n",
            "44  45  2017-01-11 00:00:00\n",
            "45  46  2017-10-13 00:00:00\n",
            "46  47  2019-02-13 00:00:00\n",
            "47  48  2019-04-12 00:00:00\n",
            "48  49  2021-12-14 00:00:00\n",
            "49  50  2018-06-12 00:00:00\n"
          ]
        }
      ]
    },
    {
      "cell_type": "code",
      "source": [
        "# Replace with your SQL query below\n",
        "query = \"\"\" SELECT * FROM airbnb_search_details\"\"\"\n",
        "\n",
        "result_df = pd.read_sql(query, conn)"
      ],
      "metadata": {
        "id": "8gvgsd_FnbAB"
      },
      "execution_count": 4,
      "outputs": []
    },
    {
      "cell_type": "code",
      "source": [
        "query = \"\"\"\n",
        "WITH yearly_host AS\n",
        "(\n",
        "SELECT\n",
        "CAST(STRFTIME('%Y', host_since) AS INT) AS year,\n",
        "COUNT(DISTINCT id) AS hosts_current_year\n",
        "FROM airbnb_search_details\n",
        "GROUP BY year\n",
        "),\n",
        "host_growth AS\n",
        "(\n",
        "  SELECT\n",
        "    year,\n",
        "    hosts_current_year,\n",
        "    LAG(hosts_current_year) OVER (ORDER BY year) AS hosts_previous_year\n",
        "  FROM yearly_host\n",
        ")\n",
        "SELECT\n",
        "  year,\n",
        "  hosts_current_year,\n",
        "  hosts_previous_year,\n",
        "  ROUND(((hosts_current_year - hosts_previous_year) / CAST(hosts_previous_year AS FLOAT)) * 100, 0) AS growth_rate\n",
        "FROM host_growth\n",
        "WHERE hosts_previous_year IS NOT NULL\n",
        "ORDER BY year\n",
        "\"\"\"\n",
        "\n",
        "solution = pd.read_sql(query, conn)\n",
        "print(solution)"
      ],
      "metadata": {
        "colab": {
          "base_uri": "https://localhost:8080/"
        },
        "id": "gv_WnotNnc1Q",
        "outputId": "94aa2540-13c9-45dc-c386-bc0df7f674b5"
      },
      "execution_count": 8,
      "outputs": [
        {
          "output_type": "stream",
          "name": "stdout",
          "text": [
            "   year  hosts_current_year  hosts_previous_year  growth_rate\n",
            "0  2018                   8                    9        -11.0\n",
            "1  2019                   7                    8        -13.0\n",
            "2  2020                   7                    7          0.0\n",
            "3  2021                   7                    7          0.0\n",
            "4  2022                  12                    7         71.0\n"
          ]
        }
      ]
    },
    {
      "cell_type": "markdown",
      "source": [
        "## Problem Explanation\n",
        "\n",
        "### Step 1: Count hosts by registration year\n",
        "```sql\n",
        "SELECT\n",
        "  CAST(STRFTIME('%Y', host_since) AS INT) AS year,\n",
        "  COUNT(DISTINCT id) AS hosts_current_year\n",
        "FROM airbnb_search_details\n",
        "GROUP BY year\n",
        "```\n",
        "\n",
        "### Step 2: Get previous year's host count\n",
        "```sql\n",
        "SELECT\n",
        "  year\n",
        "  hosts_current_year,\n",
        "  LAG(hosts_current_year) OVER(ORDER BY YEAR) AS hosts_previous_year\n",
        "FROM yearly_hosts\n",
        "```\n",
        "- Use `LAG` window function to get previous year's host count.\n",
        "\n",
        "### Step 3: Calculate growth rate\n",
        "```sql\n",
        "SELECT\n",
        "  year,\n",
        "  hosts_current_year,\n",
        "  hosts_previous_year,\n",
        "  ROUND(100.0*(hosts_current_year - hosts_previous_year)/CAST(hosts_previous_year AS FLOAT)) AS growth_rate\n",
        "FROM host_growth\n",
        "WHERE hosts_previous_year IS NOT NULL\n",
        "ORDER BY year\n",
        "```\n",
        "- `ROUND` function to round the growth_rate to the nearest percent.\n",
        "- Use the given equation to calculate the growth rate."
      ],
      "metadata": {
        "id": "lxRWL-4tT_nz"
      }
    }
  ]
}