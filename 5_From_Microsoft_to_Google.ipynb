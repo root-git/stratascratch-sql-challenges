{
  "nbformat": 4,
  "nbformat_minor": 0,
  "metadata": {
    "colab": {
      "provenance": [],
      "authorship_tag": "ABX9TyNuk+01lkzgbGP8Z6P/or4M",
      "include_colab_link": true
    },
    "kernelspec": {
      "name": "python3",
      "display_name": "Python 3"
    },
    "language_info": {
      "name": "python"
    }
  },
  "cells": [
    {
      "cell_type": "markdown",
      "metadata": {
        "id": "view-in-github",
        "colab_type": "text"
      },
      "source": [
        "<a href=\"https://colab.research.google.com/github/root-git/stratascratch-sql-challenges/blob/main/5_From_Microsoft_to_Google.ipynb\" target=\"_parent\"><img src=\"https://colab.research.google.com/assets/colab-badge.svg\" alt=\"Open In Colab\"/></a>"
      ]
    },
    {
      "cell_type": "markdown",
      "source": [
        "## From Microsoft to Google\n",
        "\n",
        "Consider all LinkedIn users who, at some point, worked at Microsoft. For how many of them was Google their next employer right after Microsoft (no employers in between)?\n",
        "\n",
        "**Original Question Link:**  \n",
        "[StrataScratch ID 2078 – From Microsoft to Google](https://platform.stratascratch.com/coding/2078-from-microsoft-to-google?code_type=1)"
      ],
      "metadata": {
        "id": "SKRdjd5hRUvi"
      }
    },
    {
      "cell_type": "markdown",
      "source": [
        "---\n",
        "\n",
        "# Table Schema\n",
        "\n",
        "#### `linkedin_users`\n",
        "\n",
        "| Column Name | Data Type | Description                    |\n",
        "|-------------|-----------|--------------------------------|\n",
        "| user_id     | bigint    | Unique identifier for a user   |\n",
        "| employer    | text      | Name of the employer           |\n",
        "| position    | text      | Job title                      |\n",
        "| start_date  | date      | Employment start date          |\n",
        "| end_date    | date      | Employment end date            |\n",
        "\n",
        "---\n"
      ],
      "metadata": {
        "id": "Z6eLEzz4R0wt"
      }
    },
    {
      "cell_type": "markdown",
      "source": [
        "# Thought Process\n",
        "\n",
        "1. Identify all job entries for each user, ordered by start time.\n",
        "2. Find the job(s) where the user worked at Microsoft.\n",
        "3. Check if their next chronological job after Microsoft was at Google.\n",
        "4. Exclude users who had other jobs between Microsoft and Google.\n",
        "5. Count distinct user_ids that satify the condition."
      ],
      "metadata": {
        "id": "BDGRUmNTS9eB"
      }
    },
    {
      "cell_type": "code",
      "source": [
        "import pandas as pd\n",
        "\n",
        "#Create mock data with edge cases\n",
        "data = {\n",
        "    \"user_id\": [\n",
        "        1, 1,\n",
        "        2, 2,\n",
        "        3, 3, 3,\n",
        "        4,\n",
        "        5, 5,\n",
        "        6, 6,\n",
        "        7, 7\n",
        "    ],\n",
        "    \"employer\": [\n",
        "        \"Microsoft\", \"Google\",\n",
        "        \"Microsoft\", \"Amazon\",\n",
        "        \"Microsoft\", \"Oracle\", \"Google\",\n",
        "        \"Microsoft\",\n",
        "        \"Google\", \"Microsoft\",\n",
        "        \"Microsoft\", \"Google\",\n",
        "        \"Microsoft\", \"Google\"\n",
        "    ],\n",
        "    \"position\": [\n",
        "        \"Engineer\", \"SWE\",\n",
        "        \"PM\", \"TPM\",\n",
        "        \"Analyst\", \"Analyst\", \"Analyst\",\n",
        "        \"Eng\",\n",
        "        \"SWE\", \"SWE\",\n",
        "        \"PM\", \"PM\",\n",
        "        \"SWE\",  \"SWE\"\n",
        "    ],\n",
        "    \"start_date\": [\n",
        "        \"2020-01-01\", \"2021-01-01\",\n",
        "        \"2019-06-01\", \"2020-07-01\",\n",
        "        \"2018-01-01\", \"2019-01-01\", \"2020-01-01\",\n",
        "        \"2021-01-01\",\n",
        "        \"2018-03-01\", \"2019-04-01\",\n",
        "        \"2017-07-01\", \"2018-07-01\",\n",
        "        \"2020-01-01\",  \"2021-01-01\"\n",
        "    ],\n",
        "    \"end_date\": [\n",
        "        \"2020-12-31\", \"2022-01-01\",\n",
        "        \"2020-06-30\", \"2021-06-30\",\n",
        "        \"2018-12-31\", \"2019-12-31\", \"2021-01-01\",\n",
        "        \"2021-12-31\",\n",
        "        \"2019-03-31\", \"2020-03-31\",\n",
        "        \"2018-06-30\", \"2019-06-30\",\n",
        "        \"2021-01-01\",   \"2022-01-01\"\n",
        "    ]\n",
        "}\n",
        "\n",
        "df = pd.DataFrame(data)\n",
        "df['start_date'] = pd.to_datetime(df['start_date'])\n",
        "df['end_date'] = pd.to_datetime(df['end_date'], errors='coerce')\n"
      ],
      "metadata": {
        "id": "hWg1QHBnU-8i"
      },
      "execution_count": 2,
      "outputs": []
    },
    {
      "cell_type": "code",
      "source": [
        "import sqlite3\n",
        "\n",
        "# Load into SQLite (in-memory)\n",
        "conn = sqlite3.connect(\":memory:\")\n",
        "df.to_sql(\"linkedin_users\", conn, index=False, if_exists='replace')\n",
        "\n",
        "#Show preview\n",
        "print(pd.read_sql(\"SELECT * FROM linkedin_users\", conn))"
      ],
      "metadata": {
        "colab": {
          "base_uri": "https://localhost:8080/"
        },
        "id": "LQQ3d-BDVPi_",
        "outputId": "c5cc5446-8af0-4cb5-cccc-ce2454de0384"
      },
      "execution_count": 4,
      "outputs": [
        {
          "output_type": "stream",
          "name": "stdout",
          "text": [
            "    user_id   employer  position           start_date             end_date\n",
            "0         1  Microsoft  Engineer  2020-01-01 00:00:00  2020-12-31 00:00:00\n",
            "1         1     Google       SWE  2021-01-01 00:00:00  2022-01-01 00:00:00\n",
            "2         2  Microsoft        PM  2019-06-01 00:00:00  2020-06-30 00:00:00\n",
            "3         2     Amazon       TPM  2020-07-01 00:00:00  2021-06-30 00:00:00\n",
            "4         3  Microsoft   Analyst  2018-01-01 00:00:00  2018-12-31 00:00:00\n",
            "5         3     Oracle   Analyst  2019-01-01 00:00:00  2019-12-31 00:00:00\n",
            "6         3     Google   Analyst  2020-01-01 00:00:00  2021-01-01 00:00:00\n",
            "7         4  Microsoft       Eng  2021-01-01 00:00:00  2021-12-31 00:00:00\n",
            "8         5     Google       SWE  2018-03-01 00:00:00  2019-03-31 00:00:00\n",
            "9         5  Microsoft       SWE  2019-04-01 00:00:00  2020-03-31 00:00:00\n",
            "10        6  Microsoft        PM  2017-07-01 00:00:00  2018-06-30 00:00:00\n",
            "11        6     Google        PM  2018-07-01 00:00:00  2019-06-30 00:00:00\n",
            "12        7  Microsoft       SWE  2020-01-01 00:00:00  2021-01-01 00:00:00\n",
            "13        7     Google       SWE  2021-01-01 00:00:00  2022-01-01 00:00:00\n"
          ]
        }
      ]
    },
    {
      "cell_type": "code",
      "source": [
        "# Replace with your SQL query below\n",
        "query = \"\"\" SELECT * FROM linkedin_users\"\"\"\n",
        "\n",
        "result_df = pd.read_sql(query, conn)"
      ],
      "metadata": {
        "id": "164qZX7ZWxho"
      },
      "execution_count": 5,
      "outputs": []
    },
    {
      "cell_type": "code",
      "source": [
        "query = \"\"\"\n",
        "WITH ranked_jobs AS\n",
        "(\n",
        "  SELECT\n",
        "    user_id,\n",
        "    employer,\n",
        "    start_date,\n",
        "    end_date,\n",
        "    ROW_NUMBER() OVER(PARTITION BY user_id ORDER BY start_date) AS job_order\n",
        "  FROM linkedin_users\n",
        "),\n",
        "microsoft_jobs AS\n",
        "(\n",
        "  SELECT\n",
        "    user_id,\n",
        "    job_order AS msft_rank\n",
        "  FROM ranked_jobs\n",
        "  WHERE employer = 'Microsoft'\n",
        "),\n",
        "next_job AS\n",
        "(\n",
        "  SELECT\n",
        "    m.user_id,\n",
        "    r.employer AS next_employer\n",
        "  FROM microsoft_jobs m\n",
        "  JOIN ranked_jobs r\n",
        "    ON m.user_id = r.user_id\n",
        "  AND m.msft_rank + 1 = r.job_order\n",
        ")\n",
        "SELECT\n",
        "  COUNT(DISTINCT user_id) AS num_users\n",
        "FROM next_job\n",
        "WHERE next_employer = 'Google'\n",
        "\"\"\"\n",
        "\n",
        "solution = pd.read_sql(query, conn)"
      ],
      "metadata": {
        "id": "ZSA9-0UDW1XP"
      },
      "execution_count": 12,
      "outputs": []
    },
    {
      "cell_type": "code",
      "source": [
        "# Compare the two results\n",
        "are_equal = result_df.equals(solution)\n",
        "\n",
        "# Print result based on the comparison\n",
        "if are_equal:\n",
        "    print(\"Correct!\")\n",
        "else:\n",
        "    print(\"Try again!\")"
      ],
      "metadata": {
        "colab": {
          "base_uri": "https://localhost:8080/"
        },
        "id": "ScwewbFVX9_E",
        "outputId": "e758e11d-0808-452d-cb8f-ecadab3be65a"
      },
      "execution_count": 13,
      "outputs": [
        {
          "output_type": "stream",
          "name": "stdout",
          "text": [
            "Correct!\n"
          ]
        }
      ]
    },
    {
      "cell_type": "markdown",
      "source": [
        "### Problem Explanation\n",
        "\n",
        "### Step 1: Rank each user's jobs chronologically\n",
        "```sql\n",
        "SELECT\n",
        "  user_id,\n",
        "  employer,\n",
        "  start_date,\n",
        "  end_date,\n",
        "  ROW_NUMBER() OVER(PARTITION BY user_id ORDER BY start_date) AS job_order\n",
        "FROM linkedin_users\n",
        "```\n",
        "- For each `user_id`, assign a row number based on ascending `start_date` (earliest bob = 1).\n",
        "- This allows us to identify the sequency of jobs for each user.\n",
        "\n",
        "### Step 2: Find users who have worked at Microsoft.\n",
        "```sql\n",
        "SELECT\n",
        "    user_id,\n",
        "    job_order AS msft_rank\n",
        "  FROM ranked_jobs\n",
        "  WHERE employer = 'Microsoft'\n",
        "```\n",
        "- Extract only the rows where the employers is Microsoft.\n",
        "- Keep the `job_order` as `msft_rank`, which tells us where the Microsoft job occurred in that user's timeline.\n",
        "\n",
        "### Step 3: Join to find the next job after Microsoft\n",
        "```sql\n",
        "SELECT\n",
        "    m.user_id,\n",
        "    r.employer AS next_employer\n",
        "  FROM microsoft_jobs m\n",
        "  JOIN ranked_jobs r\n",
        "    ON m.user_id = r.user_id\n",
        "  AND m.msft_rank + 1 = r.job_order\n",
        "```\n",
        "- For each Microsoft (`m`), join to the same user's next job (`r`) by checking that `r.job_order =m.msft_rank + 1`.\n",
        "- This ensures we are only considering the job directly following a Microsoft position.\n",
        "- We pull the employer name from the next job and call it `next_employer`.\n",
        "\n",
        "### Step 4: Count how many of those next jobs were at Google\n",
        "```sql\n",
        "SELECT\n",
        "  COUNT(DISTINCT user_id) AS num_users\n",
        "FROM next_job\n",
        "WHERE next_employer = 'Google'\n",
        "```\n",
        "- From the list of dorect post-Microsoft jobs, we count how many users had Google as their next employer.\n",
        "- `DISITINCT user_id` ensures that we count unique users, not multiple transitions by the same user.\n",
        "\n"
      ],
      "metadata": {
        "id": "Fygi_euNYT56"
      }
    }
  ]
}