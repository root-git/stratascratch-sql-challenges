{
  "nbformat": 4,
  "nbformat_minor": 0,
  "metadata": {
    "colab": {
      "provenance": [],
      "authorship_tag": "ABX9TyOnQajW3/QQxEQ7KqaKIf8v",
      "include_colab_link": true
    },
    "kernelspec": {
      "name": "python3",
      "display_name": "Python 3"
    },
    "language_info": {
      "name": "python"
    }
  },
  "cells": [
    {
      "cell_type": "markdown",
      "metadata": {
        "id": "view-in-github",
        "colab_type": "text"
      },
      "source": [
        "<a href=\"https://colab.research.google.com/github/root-git/stratascratch-sql-challenges/blob/main/7_Minimum_Number_of_Platforms.ipynb\" target=\"_parent\"><img src=\"https://colab.research.google.com/assets/colab-badge.svg\" alt=\"Open In Colab\"/></a>"
      ]
    },
    {
      "cell_type": "markdown",
      "source": [
        "## Minimum Number of Platforms\n",
        "\n",
        "You are given a day worth of scheduled departure and arrival times of trains at one train station. One platform can only accommodate one train from the beginning of the minute it's scheduled to arrive until the end of the minute it's scheduled to depart. Find the minimum number of platforms necessary to accommodate the entire scheduled traffic.\n",
        "\n",
        "**Original Question Link:**  \n",
        "[StrataScratch ID 2082 – Minimum Number of Platforms](https://platform.stratascratch.com/coding/2082-minimum-number-of-platforms?code_type=1)"
      ],
      "metadata": {
        "id": "40qGMvSvanaR"
      }
    },
    {
      "cell_type": "markdown",
      "source": [
        "---\n",
        "\n",
        "## Table Schema\n",
        "\n",
        "### `train_arrivals`\n",
        "| Column        | Type   |\n",
        "|---------------|--------|\n",
        "| train_id      | bigint |\n",
        "| arrival_time  | text   |\n",
        "\n",
        "### `train_departures`\n",
        "| Column        | Type   |\n",
        "|---------------|--------|\n",
        "| train_id      | bigint |\n",
        "| departure_time| text   |\n",
        "\n",
        "---"
      ],
      "metadata": {
        "id": "nASCTihZa1pn"
      }
    },
    {
      "cell_type": "markdown",
      "source": [
        "## Thought Process\n",
        "\n",
        "1. Join arrival and departure tables on `train_id`.\n",
        "2. Generate all minutes between arrival and departure for each train (inclusive).\n",
        "3. Flatten the data so each row represents a train occupying a specific minute.\n",
        "4. Count the number of trains per minute (i.e., concurrent platform use).\n",
        "5. Take the maximum count. Thisi is the minimum number of platforms required."
      ],
      "metadata": {
        "id": "tGE1NeQSa-VB"
      }
    },
    {
      "cell_type": "code",
      "source": [
        "import pandas as pd\n",
        "\n",
        "#Create mock data\n",
        "arrivals_data = pd.DataFrame({\n",
        "    'train_id': [1, 2, 3, 4, 5, 6],\n",
        "    'arrival_time': ['2023-01-01 10:00', '2023-01-01 10:05', '2023-01-01 10:10', '2023-01-01 10:10', '2023-01-01 10:15', '2023-01-01 10:20']\n",
        "})\n",
        "departures_data = pd.DataFrame({\n",
        "    'train_id': [1, 2, 3, 4, 5, 6],\n",
        "    'departure_time': ['2023-01-01 10:30', '2023-01-01 10:15', '2023-01-01 10:20', '2023-01-01 10:25', '2023-01-01 10:30', '2023-01-01 10:40']\n",
        "})\n",
        ""
      ],
      "metadata": {
        "id": "gq_8Yk95kx5L"
      },
      "execution_count": 7,
      "outputs": []
    },
    {
      "cell_type": "code",
      "source": [
        "import sqlite3\n",
        "\n",
        "# Load into SQLite (in-memory)\n",
        "conn = sqlite3.connect(':memory:')\n",
        "arrivals_data.to_sql(\"train_arrivals\", conn, index=False, if_exists='replace')\n",
        "departures_data.to_sql(\"train_departures\", conn, index=False, if_exists='replace')\n",
        "\n",
        "#Show Preview\n",
        "print(pd.read_sql('SELECT * FROM train_arrivals', conn))"
      ],
      "metadata": {
        "colab": {
          "base_uri": "https://localhost:8080/"
        },
        "id": "gJpFIxc1lA_N",
        "outputId": "50afe23c-c2a1-43f2-f3cd-6b749377e8b2"
      },
      "execution_count": 9,
      "outputs": [
        {
          "output_type": "stream",
          "name": "stdout",
          "text": [
            "   train_id      arrival_time\n",
            "0         1  2023-01-01 10:00\n",
            "1         2  2023-01-01 10:05\n",
            "2         3  2023-01-01 10:10\n",
            "3         4  2023-01-01 10:10\n",
            "4         5  2023-01-01 10:15\n",
            "5         6  2023-01-01 10:20\n"
          ]
        }
      ]
    },
    {
      "cell_type": "code",
      "source": [
        "# Replace with your SQL query below\n",
        "query = \"\"\" SELECT * FROM train_arrivals\"\"\"\n",
        "\n",
        "result_df = pd.read_sql(query, conn)"
      ],
      "metadata": {
        "id": "uYTLIVS6lbAS"
      },
      "execution_count": 10,
      "outputs": []
    },
    {
      "cell_type": "code",
      "source": [
        "query = \"\"\"\n",
        "WITH timeline AS\n",
        "(\n",
        "SELECT\n",
        "  arrival_time AS time,\n",
        "  1 AS change\n",
        "FROM train_arrivals\n",
        "UNION ALL\n",
        "SELECT\n",
        "  DATETIME(departure_time, '+1 minute')  AS time,\n",
        "  -1 AS change\n",
        "FROM train_departures\n",
        "),\n",
        "running_sum AS\n",
        "(\n",
        "  SELECT\n",
        "    time,\n",
        "    SUM(change) OVER (ORDER BY time) AS active_trains\n",
        "  FROM timeline\n",
        ")\n",
        "SELECT\n",
        "  MAX(active_trains) AS min_platforms\n",
        "FROM running_sum\n",
        "\"\"\"\n",
        "solution = pd.read_sql(query, conn)\n",
        "print(solution)"
      ],
      "metadata": {
        "colab": {
          "base_uri": "https://localhost:8080/"
        },
        "id": "IbwEkanOnD94",
        "outputId": "17a17459-3677-4afb-9914-a05944aa2c23"
      },
      "execution_count": 15,
      "outputs": [
        {
          "output_type": "stream",
          "name": "stdout",
          "text": [
            "   min_platforms\n",
            "0              5\n"
          ]
        }
      ]
    },
    {
      "cell_type": "markdown",
      "source": [
        "## Problem Explanation\n",
        "\n",
        "### Step 1: Combine arrival and departure events into one timeline\n",
        "```sql\n",
        "SELECT\n",
        "  arrival_time AS time,\n",
        "  1 AS change\n",
        "FROM train_arrivals\n",
        "UNION ALL\n",
        "SELECT\n",
        "  DATETIME(departure_time, '+1 minute') AS time,\n",
        "  -1 AS change\n",
        "FROM train_departures\n",
        "```\n",
        "- `arrival_time` means +1 train on a platform at that minute.\n",
        "- `departure_time` +1 minute means the platform becomes free after the departure minute, so we use -1 starting the next minute.\n",
        "\n",
        "### Step 2: Getting the sum of active trains\n",
        "```sql\n",
        "SELECT\n",
        "  time,\n",
        "  SUM(change) OVER(ORDER BY time) AS active_trains\n",
        "FROM timeline\n",
        "```\n",
        "- Use `SUM` window function to compute the running sum of trains occupying platforms over time.\n",
        "- For each minute in the timeline, how many trains are on the platforms at that exact time.\n",
        "\n",
        "### Step 3: Maximum concurrent trains\n",
        "```sql\n",
        "SELECT\n",
        "  MAX(active_trains) AS min_platforms_required\n",
        "FROM running_sum\n",
        "```\n",
        "- The maximum number of active trains at any given time equals the minimum number of platforms required.\n",
        "\n"
      ],
      "metadata": {
        "id": "T3Abbgb5ooly"
      }
    },
    {
      "cell_type": "markdown",
      "source": [
        "## Summary of Logic\n",
        "1. Each train arrival increments the platform demand by 1.\n",
        "2. Each departure frees the platform the minute after it departs.\n",
        "3. Merge all events into a timeline and sort them.\n",
        "4. Track how many trains are active over time.\n",
        "5. The maximum concurrent trains is your answer."
      ],
      "metadata": {
        "id": "CpuBJ--oqhlg"
      }
    }
  ]
}