{
  "nbformat": 4,
  "nbformat_minor": 0,
  "metadata": {
    "colab": {
      "provenance": [],
      "authorship_tag": "ABX9TyOjEWYwY/2fPEjp4wJBPedb",
      "include_colab_link": true
    },
    "kernelspec": {
      "name": "python3",
      "display_name": "Python 3"
    },
    "language_info": {
      "name": "python"
    }
  },
  "cells": [
    {
      "cell_type": "markdown",
      "metadata": {
        "id": "view-in-github",
        "colab_type": "text"
      },
      "source": [
        "<a href=\"https://colab.research.google.com/github/root-git/stratascratch-sql-challenges/blob/main/3_Marketing_Campaign_Success.ipynb\" target=\"_parent\"><img src=\"https://colab.research.google.com/assets/colab-badge.svg\" alt=\"Open In Colab\"/></a>"
      ]
    },
    {
      "cell_type": "markdown",
      "source": [
        "## Marketing Campaign Success\n",
        "\n",
        "You have the marketing_campaign table, which records in-app purchases by users. Users making their first in-app purchase enter a marketing campaign, where they see call-to-actions for more purchases. Find how many users made additional purchases due to the campaign's success.\n",
        "\n",
        "The campaign starts one day after the first purchase. Users with only one or multiple purchases on the first day do not count, nor do users who later buy only the same products from their first day.\n",
        "\n",
        "\n",
        "**Original Question Link:**  \n",
        "[StrataScratch ID 514 – First Day Retention Rate](https://platform.stratascratch.com/coding/514-marketing-campaign-success-advanced?code_type=1)"
      ],
      "metadata": {
        "id": "2H8BNFgL2ZwN"
      }
    },
    {
      "cell_type": "markdown",
      "source": [
        "---\n",
        "\n",
        "# Table Schema\n",
        "\n",
        "#### `marketing_campaign`\n",
        "\n",
        "| Column        | Type    | Description                               |\n",
        "|---------------|---------|-------------------------------------------|\n",
        "| `created_at`  | `date`  | Date of in-app purchase                   |\n",
        "| `price`       | `bigint`| Price of the purchased product            |\n",
        "| `product_id`  | `bigint`| ID of the product                         |\n",
        "| `quantity`    | `bigint`| Number of products purchased              |\n",
        "| `user_id`     | `bigint`| ID of the user who made the purchase      |\n",
        "\n",
        "---"
      ],
      "metadata": {
        "id": "z01bD34R20fe"
      }
    },
    {
      "cell_type": "markdown",
      "source": [
        "\n",
        "# Thought Process\n",
        "\n",
        "1. **Find the first purchase date for each user** using `MIN(created_at)`.\n",
        "2. **Identify the products each user purchased on their first purchase day.**\n",
        "3. **Filter out any purchases made on or before the first purchase day.**\n",
        "4. For each user, check if **they purchased any new product(s)** (i.e., product_id not in their first day purchases).\n",
        "5. **Count users** who meet the above criteria — these users are considered influenced by the marketing campaign.\n",
        "---"
      ],
      "metadata": {
        "id": "pWp7VsVG2_fY"
      }
    },
    {
      "cell_type": "code",
      "source": [
        "import pandas as pd\n",
        "\n",
        "# Create mock data with edge cases\n",
        "data = {\n",
        "    \"created_at\": [\n",
        "        \"2024-01-01\", \"2024-01-01\",\n",
        "        \"2024-01-01\", \"2024-01-02\",\n",
        "        \"2024-01-01\", \"2024-01-02\",\n",
        "        \"2024-01-02\", \"2024-01-03\",\n",
        "        \"2024-01-01\",\n",
        "        \"2024-01-01\", \"2024-01-01\", \"2024-01-03\",\n",
        "        \"2024-01-02\", \"2024-01-03\",\n",
        "    ],\n",
        "    \"price\": [\n",
        "        100, 200,\n",
        "        150, 150,\n",
        "        120, 180,\n",
        "        200, 210,\n",
        "        300,\n",
        "        130, 150, 130,\n",
        "        170, 190\n",
        "    ],\n",
        "    \"product_id\": [\n",
        "        101, 102,\n",
        "        103, 103,\n",
        "        104, 105,\n",
        "        106, 107,\n",
        "        108,\n",
        "        109, 110, 109,\n",
        "        111, 112\n",
        "    ],\n",
        "    \"quantity\": [\n",
        "        1, 2,\n",
        "        1, 1,\n",
        "        1, 2,\n",
        "        2, 3,\n",
        "        1,\n",
        "        1, 1, 2,\n",
        "        1, 1\n",
        "    ],\n",
        "    \"user_id\": [\n",
        "        1, 1,\n",
        "        2, 2,\n",
        "        3, 3,\n",
        "        4, 4,\n",
        "        5,\n",
        "        6, 6, 6,\n",
        "        7, 7\n",
        "    ]\n",
        "}\n",
        "\n",
        "# Create DataFrame\n",
        "df = pd.DataFrame(data)\n",
        "\n",
        "# Convert to datetime\n",
        "df[\"created_at\"] = pd.to_datetime(df[\"created_at\"])"
      ],
      "metadata": {
        "id": "WsTMri_F3sAZ"
      },
      "execution_count": 11,
      "outputs": []
    },
    {
      "cell_type": "code",
      "source": [
        "import sqlite3\n",
        "\n",
        "# Load into SQLite (in-memory)\n",
        "conn = sqlite3.connect(\":memory:\")\n",
        "df.to_sql(\"marketing_campaign\", conn, index=False, if_exists=\"replace\")\n",
        "\n",
        "# Show preview\n",
        "print(pd.read_sql(\"SELECT * FROM marketing_campaign\", conn))"
      ],
      "metadata": {
        "colab": {
          "base_uri": "https://localhost:8080/"
        },
        "id": "qZaEcwrUuWGQ",
        "outputId": "6c9d1c79-bdde-4ef2-d523-883d56d87f43"
      },
      "execution_count": 12,
      "outputs": [
        {
          "output_type": "stream",
          "name": "stdout",
          "text": [
            "             created_at  price  product_id  quantity  user_id\n",
            "0   2024-01-01 00:00:00    100         101         1        1\n",
            "1   2024-01-01 00:00:00    200         102         2        1\n",
            "2   2024-01-01 00:00:00    150         103         1        2\n",
            "3   2024-01-02 00:00:00    150         103         1        2\n",
            "4   2024-01-01 00:00:00    120         104         1        3\n",
            "5   2024-01-02 00:00:00    180         105         2        3\n",
            "6   2024-01-02 00:00:00    200         106         2        4\n",
            "7   2024-01-03 00:00:00    210         107         3        4\n",
            "8   2024-01-01 00:00:00    300         108         1        5\n",
            "9   2024-01-01 00:00:00    130         109         1        6\n",
            "10  2024-01-01 00:00:00    150         110         1        6\n",
            "11  2024-01-03 00:00:00    130         109         2        6\n",
            "12  2024-01-02 00:00:00    170         111         1        7\n",
            "13  2024-01-03 00:00:00    190         112         1        7\n"
          ]
        }
      ]
    },
    {
      "cell_type": "code",
      "source": [
        "# Replace with your SQL query below\n",
        "query = \"\"\" SELECT * FROM facebook_posts\"\"\"\n",
        "\n",
        "result_df = pd.read_sql(query, conn)"
      ],
      "metadata": {
        "id": "OgSLVRqpur2Z"
      },
      "execution_count": null,
      "outputs": []
    },
    {
      "cell_type": "code",
      "source": [
        "query = \"\"\"\n",
        "WITH first_purchase AS\n",
        "(\n",
        "  SELECT\n",
        "    user_id,\n",
        "    MIN(created_at) AS first_date\n",
        "  FROM marketing_campaign\n",
        "  GROUP BY user_id\n",
        "),\n",
        "first_day_products AS\n",
        "(\n",
        "  SELECT\n",
        "    mc.user_id,\n",
        "    mc.product_id\n",
        "  FROM marketing_campaign mc\n",
        "  JOIN first_purchase fp\n",
        "    ON mc.user_id = fp.user_id\n",
        "   AND mc.created_at = fp.first_date\n",
        "),\n",
        "later_purchases AS\n",
        "(\n",
        "  SELECT\n",
        "    mc.user_id,\n",
        "    mc.product_id\n",
        "  FROM marketing_campaign mc\n",
        "  JOIN first_purchase fp\n",
        "    ON mc.user_id = fp.user_id\n",
        "   AND mc.created_at > fp.first_date\n",
        "),\n",
        "new_products AS\n",
        "(\n",
        "  SELECT\n",
        "    lp.user_id\n",
        "  FROM later_purchases lp\n",
        "  LEFT JOIN first_day_products fdp\n",
        "    ON lp.user_id = fdp.user_id\n",
        "   AND lp.product_id = fdp.product_id\n",
        "  WHERE fdp.product_id IS NULL\n",
        "  GROUP BY lp.user_id\n",
        ")\n",
        "SELECT\n",
        "  COUNT(user_id) AS num_users\n",
        "FROM new_products\n",
        "\"\"\"\n",
        "\n",
        "solution = pd.read_sql(query, conn)"
      ],
      "metadata": {
        "id": "kPRFPvstu1LQ"
      },
      "execution_count": 18,
      "outputs": []
    },
    {
      "cell_type": "code",
      "source": [
        "# Compare the two results\n",
        "are_equal = result_df.equals(solution)\n",
        "\n",
        "# Print result based on the comparison\n",
        "if are_equal:\n",
        "    print(\"Correct!\")\n",
        "else:\n",
        "    print(\"Try again!\")"
      ],
      "metadata": {
        "colab": {
          "base_uri": "https://localhost:8080/"
        },
        "id": "VWUfKaXW0qYo",
        "outputId": "ea34bed2-689e-4899-e854-e644527fcd78"
      },
      "execution_count": 19,
      "outputs": [
        {
          "output_type": "stream",
          "name": "stdout",
          "text": [
            "Try again!\n"
          ]
        }
      ]
    },
    {
      "cell_type": "markdown",
      "source": [
        "### Problem Explanation\n",
        "### Step 1: Find first purchase date from each user\n",
        "```sql\n",
        "SELECT\n",
        "    user_id,\n",
        "    MIN(created_at) AS first_date\n",
        "  FROM marketing_campaign\n",
        "  GROUP BY user_id\n",
        "```\n",
        "### Step 2: Get products purchased on the first purchase day\n",
        "``` sql\n",
        "first_day_products AS\n",
        "(\n",
        "  SELECT\n",
        "    mc.user_id,\n",
        "    mc.product_id\n",
        "  FROM marketing_campaign mc\n",
        "  JOIN first_purchase fp\n",
        "    ON mc.user_id = fp.user_id\n",
        "   AND mc.created_at = fp.first_date\n",
        ")\n",
        "```\n",
        "### Step 3: Get products purchased after the first purchase day\n",
        "```sql\n",
        "later_purchases AS\n",
        "(\n",
        "  SELECT\n",
        "    mc.user_id,\n",
        "    mc.product_id\n",
        "  FROM marketing_campaign mc\n",
        "  JOIN first_purchase fp\n",
        "    ON mc.user_id = fp.user_id\n",
        "   AND mc.created_at > fp.first_date\n",
        ")\n",
        "```\n",
        "### Step 4: Find new products purchased after first day\n",
        "```sql\n",
        "new_products AS\n",
        "(\n",
        "  SELECT\n",
        "    lp.user_id\n",
        "  FROM later_purchases lp\n",
        "  LEFT JOIN first_day_products fdp\n",
        "    ON lp.user_id = fdp.user_id\n",
        "   AND lp.product_id = fdp.product_id\n",
        "  WHERE fdp.product_id IS NULL\n",
        "  GROUP BY lp.user_id\n",
        ")\n",
        "```\n",
        "### Step 5: Count number of users\n",
        "```sql\n",
        "SELECT\n",
        "  COUNT(user_id) AS num_users\n",
        "FROM new_products\n",
        "```\n",
        "---\n",
        "\n",
        "\n"
      ],
      "metadata": {
        "id": "SlmYcV_L2INX"
      }
    }
  ]
}