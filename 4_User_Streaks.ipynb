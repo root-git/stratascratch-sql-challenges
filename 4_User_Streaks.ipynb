{
  "nbformat": 4,
  "nbformat_minor": 0,
  "metadata": {
    "colab": {
      "provenance": [],
      "authorship_tag": "ABX9TyNNF+0zpsiMCUJyViLW3NKl",
      "include_colab_link": true
    },
    "kernelspec": {
      "name": "python3",
      "display_name": "Python 3"
    },
    "language_info": {
      "name": "python"
    }
  },
  "cells": [
    {
      "cell_type": "markdown",
      "metadata": {
        "id": "view-in-github",
        "colab_type": "text"
      },
      "source": [
        "<a href=\"https://colab.research.google.com/github/root-git/stratascratch-sql-challenges/blob/main/4_User_Streaks.ipynb\" target=\"_parent\"><img src=\"https://colab.research.google.com/assets/colab-badge.svg\" alt=\"Open In Colab\"/></a>"
      ]
    },
    {
      "cell_type": "markdown",
      "source": [
        "## User Streaks\n",
        "\n",
        "Provided a table with user id and the dates they visited the platform, find the top 3 users with the longest continuous streak of visiting the platform as of August 10, 2022. Output the user ID and the length of the streak.\n",
        "\n",
        "In case of a tie, display all users with the top three longest streaks.\n",
        "\n",
        "**Original Question Link:**  \n",
        "[StrataScratch ID 2131 – First Day Retention Rate](https://platform.stratascratch.com/coding/2131-user-streaks?code_type=1)"
      ],
      "metadata": {
        "id": "gWCEgV6xMQWH"
      }
    },
    {
      "cell_type": "markdown",
      "source": [
        "---\n",
        "\n",
        "# Table Schema\n",
        "\n",
        "#### `user_streaks`\n",
        "\n",
        "| Column          | Type    | Description                               |\n",
        "|-----------------|---------|-------------------------------------------|\n",
        "| `date_visited`  | `date`  | Date the user visited the platform        |\n",
        "| `user_id`       | `text`  | ID of the user                            |\n",
        "\n",
        "---"
      ],
      "metadata": {
        "id": "RB-PcWeoMgjx"
      }
    },
    {
      "cell_type": "markdown",
      "source": [
        "# Thought Process\n",
        "\n",
        "1. Remove duplicate visits.\n",
        "2. Filter records to `2022-08-10`.\n",
        "3. For each `user_id`, sort their visits by date.\n",
        "4. Detect streak breaks.\n",
        "5. Count the length of each streak.\n",
        "6. Get the longest streak per user.\n",
        "7. Rank users by their longest streaks.\n"
      ],
      "metadata": {
        "id": "Jkl0IO_9NLzZ"
      }
    },
    {
      "cell_type": "code",
      "source": [
        "import pandas as pd\n",
        "\n",
        "#create mock data with edge cases\n",
        "data = {\n",
        "    \"user_id\": [\n",
        "        \"A\", \"A\", \"A\", \"A\", \"A\",\n",
        "        \"B\", \"B\", \"B\", \"B\", \"B\",\n",
        "        \"C\", \"C\", \"C\", \"C\",\n",
        "        \"D\", \"D\", \"D\", \"D\", \"D\", \"D\",\n",
        "        \"E\", \"E\", \"E\",\n",
        "        \"F\",\n",
        "        \"G\", \"G\", \"G\", \"G\", \"G\"\n",
        "    ],\n",
        "    \"date_visited\": [\n",
        "        \"2022-08-06\", \"2022-08-07\", \"2022-08-08\", \"2022-08-09\", \"2022-08-10\",\n",
        "        \"2022-08-03\", \"2022-08-04\", \"2022-08-04\", \"2022-08-05\", \"2022-08-06\",\n",
        "        \"2022-08-01\", \"2022-08-02\", \"2022-08-04\", \"2022-08-05\",\n",
        "        \"2022-08-05\", \"2022-08-06\", \"2022-08-07\", \"2022-08-08\", \"2022-08-09\", \"2022-08-10\",\n",
        "        \"2022-08-01\", \"2022-08-03\", \"2022-08-05\",\n",
        "        \"2022-08-04\",\n",
        "        \"2022-08-11\", \"2022-08-12\", \"2022-08-13\", \"2022-08-14\", \"2022-08-15\"\n",
        "    ]\n",
        "}\n",
        "\n",
        "#Create DataFrame\n",
        "df = pd.DataFrame(data)\n",
        "\n",
        "df[\"date_visited\"] = pd.to_datetime(df[\"date_visited\"])"
      ],
      "metadata": {
        "id": "gQ_thEdl2Sar"
      },
      "execution_count": 1,
      "outputs": []
    },
    {
      "cell_type": "code",
      "source": [
        "import sqlite3\n",
        "\n",
        "# Load into SQLite (in-memory)\n",
        "conn = sqlite3.connect(\":memory:\")\n",
        "df.to_sql(\"user_streaks\", conn, index=False, if_exists=\"replace\")\n",
        "\n",
        "# Show preview\n",
        "print(pd.read_sql(\"SELECT * FROM user_streaks\", conn))\n"
      ],
      "metadata": {
        "colab": {
          "base_uri": "https://localhost:8080/"
        },
        "id": "OXmjh-hQ2_pC",
        "outputId": "286b7b51-5d51-4c57-a440-984825ba9087"
      },
      "execution_count": 2,
      "outputs": [
        {
          "output_type": "stream",
          "name": "stdout",
          "text": [
            "   user_id         date_visited\n",
            "0        A  2022-08-06 00:00:00\n",
            "1        A  2022-08-07 00:00:00\n",
            "2        A  2022-08-08 00:00:00\n",
            "3        A  2022-08-09 00:00:00\n",
            "4        A  2022-08-10 00:00:00\n",
            "5        B  2022-08-03 00:00:00\n",
            "6        B  2022-08-04 00:00:00\n",
            "7        B  2022-08-04 00:00:00\n",
            "8        B  2022-08-05 00:00:00\n",
            "9        B  2022-08-06 00:00:00\n",
            "10       C  2022-08-01 00:00:00\n",
            "11       C  2022-08-02 00:00:00\n",
            "12       C  2022-08-04 00:00:00\n",
            "13       C  2022-08-05 00:00:00\n",
            "14       D  2022-08-05 00:00:00\n",
            "15       D  2022-08-06 00:00:00\n",
            "16       D  2022-08-07 00:00:00\n",
            "17       D  2022-08-08 00:00:00\n",
            "18       D  2022-08-09 00:00:00\n",
            "19       D  2022-08-10 00:00:00\n",
            "20       E  2022-08-01 00:00:00\n",
            "21       E  2022-08-03 00:00:00\n",
            "22       E  2022-08-05 00:00:00\n",
            "23       F  2022-08-04 00:00:00\n",
            "24       G  2022-08-11 00:00:00\n",
            "25       G  2022-08-12 00:00:00\n",
            "26       G  2022-08-13 00:00:00\n",
            "27       G  2022-08-14 00:00:00\n",
            "28       G  2022-08-15 00:00:00\n"
          ]
        }
      ]
    },
    {
      "cell_type": "code",
      "source": [
        "# Replace with your SQL query below\n",
        "query = \"\"\" SELECT * FROM user_streaks\"\"\"\n",
        "\n",
        "result_df = pd.read_sql(query, conn)"
      ],
      "metadata": {
        "id": "mbMvQq0y3Y-S"
      },
      "execution_count": 8,
      "outputs": []
    },
    {
      "cell_type": "code",
      "source": [
        "query = \"\"\"\n",
        "WITH unique_visits AS\n",
        "(\n",
        "    SELECT\n",
        "      user_id,\n",
        "      date_visited\n",
        "    FROM   user_streaks\n",
        "    WHERE  date_visited <=  '2022-08-10'\n",
        "    GROUP BY user_id, date_visited\n",
        "),\n",
        "detected_streaks AS\n",
        "(\n",
        "  SELECT\n",
        "    user_id,\n",
        "    date_visited,\n",
        "    CASE\n",
        "      WHEN JULIANDAY(date_visited) - JULIANDAY(LAG(date_visited) OVER (PARTITION BY user_id ORDER BY date_visited)) = 1 THEN 0\n",
        "      ELSE 1\n",
        "      END AS streak_marker\n",
        "  FROM unique_visits\n",
        "),\n",
        "streak_groups AS\n",
        "(\n",
        "  SELECT\n",
        "    user_id,\n",
        "    date_visited,\n",
        "  SUM(streak_marker) OVER (PARTITION BY user_id ORDER BY date_visited) AS streak_id\n",
        "  FROM detected_streaks\n",
        "),\n",
        "streak_lengths AS\n",
        "(\n",
        "SELECT\n",
        "  user_id,\n",
        "  streak_id,\n",
        "  COUNT(*) AS streak_length,\n",
        "  DENSE_RANK() OVER  (ORDER BY COUNT(*) DESC) AS streak_rank\n",
        "FROM streak_groups\n",
        "GROUP BY user_id, streak_id\n",
        ")\n",
        "SELECT\n",
        "  user_id,\n",
        "  streak_length\n",
        "FROM streak_lengths\n",
        "WHERE streak_rank <=  3\n",
        "\n",
        "\"\"\"\n",
        "solution = pd.read_sql(query, conn)"
      ],
      "metadata": {
        "id": "xecRuYtY3c5b"
      },
      "execution_count": 99,
      "outputs": []
    },
    {
      "cell_type": "code",
      "source": [
        "# Compare the two results\n",
        "are_equal = result_df.equals(solution)\n",
        "\n",
        "# Print result based on the comparison\n",
        "if are_equal:\n",
        "    print(\"Correct!\")\n",
        "else:\n",
        "    print(\"Try again!\")"
      ],
      "metadata": {
        "colab": {
          "base_uri": "https://localhost:8080/"
        },
        "id": "NvZtcf-uEM6y",
        "outputId": "6c3e3918-23d9-454c-e523-85e2e8a5f8fe"
      },
      "execution_count": 100,
      "outputs": [
        {
          "output_type": "stream",
          "name": "stdout",
          "text": [
            "Try again!\n"
          ]
        }
      ]
    },
    {
      "cell_type": "markdown",
      "source": [
        "### Problem Explanation\n",
        "### Step 1: Remove deiplicate visits and filter visit date <= `2022-08-10`\n",
        "```sql\n",
        "SELECT\n",
        "  user_id,\n",
        "  date_visited\n",
        "FROM user_streaks\n",
        "WHERE date_visted <= '2022-08-10'\n",
        "GROUP BY user_id, date_visited\n",
        "```\n",
        "Remove duplicate visits. A user might visit the site multiple times on the same date. We only care about distinct (user_id, date_visited) pairs.\n",
        "\n",
        "- Filters visits up to 2022-08-10\n",
        "- Groups by user_id and date_visited to deduplicate\n",
        "- Equivalent to getting a distinct visit day per user\n",
        "\n",
        "### Step 2: Detect whether a visit is part of a streak\n",
        "```sql\n",
        "SELECT\n",
        "  user_id,\n",
        "  date_visited,\n",
        "  CASE\n",
        "    WHEN JULIANDAY(date_visted) - JULIANDAY(LAG(date_visited) OVER(PARTITION BY user_id ORDER date_visited)) = 1 THEN 0\n",
        "    ELSE 1\n",
        "  END AS streak_marker\n",
        "```\n",
        "- For each user, sort their visits by date `PARTITION BY user_id ORDER date_visited`.\n",
        "- Find the number of days difference between current visit and previous visit `date_visted - LAG(date_visited)`.\n",
        "- If the difference in days = 1, then part of same streak (`streak_marker = 0`).\n",
        "- Else, start of a new streak (`streak_marker = 1`).\n",
        "- `JULIANDAY()` turns date into a numeric day count — so we can subtract.\n",
        "\n",
        "### Step 3: Create streak ID\n",
        "```sql\n",
        "SELECT\n",
        "  user_id,\n",
        "  date_visited,\n",
        "  streak_marker,\n",
        "  SUM(streak_marker) OVER(PARTITION BY user_id ORDER BY date_visited) AS streak_id\n",
        "FROM detected_streaks\n",
        "```\n",
        "Create a streak ID to group consecutive vistis.\n",
        "- The cumulative SUM(streak_marker) increases only when a new streak starts.\n",
        "- This creates a unique streak_id per contiguous date sequence.\n",
        "\n",
        "\n",
        "### Step 4: Calculate streak length and rank users by streak length\n",
        "```sql\n",
        "SELECT\n",
        "  user_id,\n",
        "  streak_id,\n",
        "  COUNT(*) AS streak_length,\n",
        "  DENSE_RANK() OVER(ORDER BY COUNT(*) DESC) AS streak_rank\n",
        "FROM streak_groups\n",
        "GROUP BY user_id, streak_id\n",
        "```\n",
        "Compute the length of each streak and assign a rank.\n",
        "\n",
        "- Groups by (`user_id`, `streak_id`) to count how many days each streak lasted.\n",
        "- Uses `DENSE_RANK()` to assign streaks a rank based on their length (longer streak = higher rank).\n",
        "\n",
        "### Step 5: Final output\n",
        "```sql\n",
        "SELECT\n",
        "  user_id,\n",
        "  streak_length\n",
        "FROM streak_length\n",
        "WHERE streak_rnk <= 3\n",
        "```\n",
        "Select all users and their streak lengths where the streak was among the top 3 longest streaks overall (with ties included via DENSE_RANK())."
      ],
      "metadata": {
        "id": "W-ZuKjKLKp1O"
      }
    }
  ]
}